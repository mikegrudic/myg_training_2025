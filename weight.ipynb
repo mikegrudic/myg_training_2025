{
 "cells": [
  {
   "cell_type": "code",
   "execution_count": 1,
   "metadata": {},
   "outputs": [
    {
     "name": "stdout",
     "output_type": "stream",
     "text": [
      "Using matplotlib backend: module://matplotlib_inline.backend_inline\n",
      "%pylab is deprecated, use %matplotlib inline and import the required libraries.\n",
      "Populating the interactive namespace from numpy and matplotlib\n"
     ]
    }
   ],
   "source": [
    "%pylab\n",
    "from pandas import read_csv\n",
    "\n",
    "with open(\"weight.csv\",'r') as F:\n",
    "    open(\"weight2.csv\",'w').write(F.read().replace(\"\"))"
   ]
  },
  {
   "cell_type": "code",
   "execution_count": 17,
   "metadata": {},
   "outputs": [
    {
     "data": {
      "text/plain": [
       "2025-01-27    10:09 AM\n",
       "2025-01-26     8:39 AM\n",
       "2025-01-24     6:21 AM\n",
       "2025-01-23     6:38 AM\n",
       "2025-01-21     8:04 AM\n",
       "2025-01-20     7:42 AM\n",
       "2025-01-19     7:59 AM\n",
       "2025-01-17     7:44 AM\n",
       "2025-01-16     6:28 AM\n",
       "2025-01-15     6:37 AM\n",
       "2025-01-14     6:26 AM\n",
       "2025-01-13     6:38 AM\n",
       "2025-01-12     8:32 AM\n",
       "2025-01-11     5:38 AM\n",
       "2025-01-10     7:49 AM\n",
       "2025-01-09     7:10 AM\n",
       "2025-01-07     8:45 AM\n",
       "2025-01-05     1:05 PM\n",
       "2025-01-04    10:20 AM\n",
       "2025-01-03     8:54 AM\n",
       "Name: Time, dtype: object"
      ]
     },
     "execution_count": 17,
     "metadata": {},
     "output_type": "execute_result"
    }
   ],
   "source": [
    "\n",
    "from datetime import datetime\n",
    "dateparse = lambda x: datetime.strptime(x, '\"%Y-%m-%d\" %H:%M:%S')\n",
    "\n",
    "\n",
    "data = read_csv(\"weight.csv\",parse_dates=True)#, date_parser=dateparse)\n",
    "\n",
    "t = data[\"Time\"]\n",
    "weight = data[\"Weight\"]\n",
    "t"
   ]
  },
  {
   "cell_type": "code",
   "execution_count": null,
   "metadata": {},
   "outputs": [],
   "source": []
  }
 ],
 "metadata": {
  "kernelspec": {
   "display_name": "Python 3",
   "language": "python",
   "name": "python3"
  },
  "language_info": {
   "codemirror_mode": {
    "name": "ipython",
    "version": 3
   },
   "file_extension": ".py",
   "mimetype": "text/x-python",
   "name": "python",
   "nbconvert_exporter": "python",
   "pygments_lexer": "ipython3",
   "version": "3.13.1"
  }
 },
 "nbformat": 4,
 "nbformat_minor": 2
}
